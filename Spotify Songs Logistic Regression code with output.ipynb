{
 "cells": [
  {
   "cell_type": "code",
   "execution_count": 1,
   "id": "noble-settlement",
   "metadata": {},
   "outputs": [],
   "source": [
    "import findspark\n",
    "findspark.init()"
   ]
  },
  {
   "cell_type": "code",
   "execution_count": 2,
   "id": "detected-tenant",
   "metadata": {},
   "outputs": [],
   "source": [
    "from pyspark.sql import SparkSession\n",
    "from pyspark.ml.classification import LogisticRegression\n",
    "spark = SparkSession.builder.config(\"spark.driver.memory\",\"20g\").getOrCreate()\n",
    "from pyspark.conf import SparkConf\n",
    "from pyspark.sql.types import * \n",
    "import pyspark.sql.functions as F\n",
    "import matplotlib.pyplot as plt\n",
    "import numpy as np\n",
    "import pandas as pd\n",
    "from pyspark.ml.feature import OneHotEncoder, StringIndexer, VectorAssembler,StandardScaler\n",
    "from pyspark.ml import Pipeline\n",
    "from sklearn.metrics import confusion_matrix"
   ]
  },
  {
   "cell_type": "code",
   "execution_count": 3,
   "id": "handed-bacon",
   "metadata": {},
   "outputs": [
    {
     "name": "stdout",
     "output_type": "stream",
     "text": [
      "+--------------------+--------------------+--------------------+--------------------+--------------------+--------------------+------------+-----------+--------+-------------------+------------------+---+-------------------+----+--------------------+--------------------+--------------------+-------------------+-------------------+------------------+-----------+--------------+----+------------+\n",
      "|                  id|                name|               album|            album_id|             artists|          artist_ids|track_number|disc_number|explicit|       danceability|            energy|key|           loudness|mode|         speechiness|        acousticness|    instrumentalness|           liveness|            valence|             tempo|duration_ms|time_signature|year|release_date|\n",
      "+--------------------+--------------------+--------------------+--------------------+--------------------+--------------------+------------+-----------+--------+-------------------+------------------+---+-------------------+----+--------------------+--------------------+--------------------+-------------------+-------------------+------------------+-----------+--------------+----+------------+\n",
      "|7lmeHLHBe4nmXzuXc...|             Testify|The Battle Of Los...|2eia0myWFgoHuttJy...|['Rage Against Th...|['2d0hyoQ5ynDBnkv...|           1|          1|   False|               0.47|             0.978|  7|             -5.399|   1|              0.0727|              0.0261|            1.09e-05|0.35600000000000004|              0.503|           117.906|     210133|           4.0|1999|  1999-11-02|\n",
      "|1wsRitfRRtWyEapl0...|     Guerrilla Radio|The Battle Of Los...|2eia0myWFgoHuttJy...|['Rage Against Th...|['2d0hyoQ5ynDBnkv...|           2|          1|    True|              0.599|0.9570000000000001| 11| -5.763999999999999|   1|               0.188|              0.0129|            7.06e-05|              0.155|              0.489|            103.68|     206200|           4.0|1999|  1999-11-02|\n",
      "|1hR0fIFK2qRG3f3RF...|    Calm Like a Bomb|The Battle Of Los...|2eia0myWFgoHuttJy...|['Rage Against Th...|['2d0hyoQ5ynDBnkv...|           3|          1|   False|              0.315|              0.97|  7|-5.4239999999999995|   1|               0.483|              0.0234|            2.03e-06|              0.122|               0.37|           149.749|     298893|           4.0|1999|  1999-11-02|\n",
      "|2lbASgTSoDO7MTuLA...|           Mic Check|The Battle Of Los...|2eia0myWFgoHuttJy...|['Rage Against Th...|['2d0hyoQ5ynDBnkv...|           4|          1|    True|               0.44|0.9670000000000001| 11|              -5.83|   0|               0.237|               0.163|            3.64e-06|              0.121|              0.574| 96.75200000000001|     213640|           4.0|1999|  1999-11-02|\n",
      "|1MQTmpYOZ6fcMQc56...|Sleep Now In the ...|The Battle Of Los...|2eia0myWFgoHuttJy...|['Rage Against Th...|['2d0hyoQ5ynDBnkv...|           5|          1|   False|              0.426|             0.929|  2|             -6.729|   1|              0.0701|             0.00162|               0.105|             0.0789|              0.539|           127.059|     205600|           4.0|1999|  1999-11-02|\n",
      "|2LXPNLSMAauNJfnC5...|Born of a Broken Man|The Battle Of Los...|2eia0myWFgoHuttJy...|['Rage Against Th...|['2d0hyoQ5ynDBnkv...|           6|          1|   False|              0.298|             0.848|  2|             -5.947|   1|              0.0727|              0.0538|0.001519999999999...|              0.201|0.19399999999999998|           148.282|     280960|           4.0|1999|  1999-11-02|\n",
      "|3moeHk8eIajvUEzVo...|      Born As Ghosts|The Battle Of Los...|2eia0myWFgoHuttJy...|['Rage Against Th...|['2d0hyoQ5ynDBnkv...|           7|          1|   False|0.41700000000000004|             0.976|  9|             -6.032|   1|               0.175|0.000426999999999...|            0.000134|              0.107|              0.483|            90.395|     202040|           4.0|1999|  1999-11-02|\n",
      "|4llunZfVXv3NvUzXV...|               Maria|The Battle Of Los...|2eia0myWFgoHuttJy...|['Rage Against Th...|['2d0hyoQ5ynDBnkv...|           8|          1|   False|0.27699999999999997|             0.873| 11|-6.5710000000000015|   0|              0.0883|0.006940000000000001|5.400000000000001...|              0.188|              0.618|172.84799999999996|     228093|           4.0|1999|  1999-11-02|\n",
      "|21Mq0NzFoVRvOmLTO...|Voice of the Voic...|The Battle Of Los...|2eia0myWFgoHuttJy...|['Rage Against Th...|['2d0hyoQ5ynDBnkv...|           9|          1|   False|              0.441|             0.882|  7| -7.362999999999999|   1|0.044000000000000004|              0.0195|0.006840000000000001|               0.15|              0.418| 83.37100000000002|     151573|           4.0|1999|  1999-11-02|\n",
      "|6s2FgJbnnMwFTpWJZ...|New Millennium Homes|The Battle Of Los...|2eia0myWFgoHuttJy...|['Rage Against Th...|['2d0hyoQ5ynDBnkv...|          10|          1|   False|0.44799999999999995|             0.861|  9|              -6.12|   1|              0.0676|0.003060000000000...|                 0.0|             0.0987| 0.7609999999999999|            92.777|     224933|           4.0|1999|  1999-11-02|\n",
      "|7o2Razxnl33Jrgz4P...|   Ashes In the Fall|The Battle Of Los...|2eia0myWFgoHuttJy...|['Rage Against Th...|['2d0hyoQ5ynDBnkv...|          11|          1|    True|              0.456|0.7040000000000001|  7|             -6.687|   1|              0.0982|              0.0052|            4.12e-06|             0.0595| 0.6559999999999999|           140.629|     277267|           4.0|1999|  1999-11-02|\n",
      "|3Hxu3Ey1TV9mZ5XqM...| War Within a Breath|The Battle Of Los...|2eia0myWFgoHuttJy...|['Rage Against Th...|['2d0hyoQ5ynDBnkv...|          12|          1|   False|0.39899999999999997|             0.965|  6|             -5.901|   1| 0.14300000000000002|             0.00442|              0.0314| 0.3670000000000001|              0.174|            98.464|     216427|           4.0|1999|  1999-11-02|\n",
      "|6ZU9RJIZ0fNaFuQM5...|           Bombtrack|Rage Against The ...|4LaRYkT4oy47wEuQg...|['Rage Against Th...|['2d0hyoQ5ynDBnkv...|           1|          1|    True|              0.478|             0.855|  4|             -7.438|   0|               0.121|              0.0134|            3.18e-05|              0.179| 0.6679999999999999|            151.93|     243760|           4.0|1992|  1992-11-03|\n",
      "|3FUS56gKr9mVBmzvl...| Killing In the Name|Rage Against The ...|4LaRYkT4oy47wEuQg...|['Rage Against Th...|['2d0hyoQ5ynDBnkv...|           2|          1|    True|              0.457|             0.779|  7|-6.3229999999999995|   1|               0.257|              0.0185|            2.04e-06|             0.0247| 0.7340000000000001|            86.573|     313667|           4.0|1992|  1992-11-03|\n",
      "|3tTL7jlSkowXidYea...| Take the Power Back|Rage Against The ...|4LaRYkT4oy47wEuQg...|['Rage Against Th...|['2d0hyoQ5ynDBnkv...|           3|          1|    True|              0.542|0.8420000000000001|  1|-7.1370000000000005|   1| 0.17300000000000001|               0.043|            0.000153|0.17300000000000001|              0.301|           104.772|     335840|           4.0|1992|  1992-11-03|\n",
      "|2vuDdXqekkDCSdawJ...|  Settle for Nothing|Rage Against The ...|4LaRYkT4oy47wEuQg...|['Rage Against Th...|['2d0hyoQ5ynDBnkv...|           4|          1|   False|              0.516|0.5329999999999999|  7| -9.562999999999999|   1|              0.0429|              0.0253|            4.71e-05|              0.113|               0.29| 97.73200000000001|     287333|           4.0|1992|  1992-11-03|\n",
      "|11cxKUEgnVAlesUKt...|  Bullet In the Head|Rage Against The ...|4LaRYkT4oy47wEuQg...|['Rage Against Th...|['2d0hyoQ5ynDBnkv...|           5|          1|    True|              0.418|0.8059999999999999|  4|             -6.965|   1|               0.128|              0.0032|            0.000788|              0.623|              0.447|           164.202|     307067|           4.0|1992|  1992-11-03|\n",
      "|1IDAJagxB9AQjjYXa...|     Know Your Enemy|Rage Against The ...|4LaRYkT4oy47wEuQg...|['Rage Against Th...|['2d0hyoQ5ynDBnkv...|           6|          1|    True|              0.574|             0.765|  4|             -7.755|   1|               0.128|              0.0141|0.003779999999999...|              0.136|              0.613|117.63600000000001|     294693|           4.0|1992|  1992-11-03|\n",
      "|6zbHSDJjgrNdfIxPy...|             Wake Up|Rage Against The ...|4LaRYkT4oy47wEuQg...|['Rage Against Th...|['2d0hyoQ5ynDBnkv...|           7|          1|   False|0.41100000000000003|             0.823|  7|-7.5539999999999985|   1|               0.115|             0.00316|              0.0148|              0.149|              0.573|170.28099999999995|     364133|           4.0|1992|  1992-11-03|\n",
      "|3YEk8mVdMI7rxtfim...|    Fistful of Steel|Rage Against The ...|4LaRYkT4oy47wEuQg...|['Rage Against Th...|['2d0hyoQ5ynDBnkv...|           8|          1|   False|               0.52|             0.755|  4|             -9.031|   0|               0.134|              0.0195|                0.34|             0.0956|              0.608|           155.513|     331107|           4.0|1992|  1992-11-03|\n",
      "+--------------------+--------------------+--------------------+--------------------+--------------------+--------------------+------------+-----------+--------+-------------------+------------------+---+-------------------+----+--------------------+--------------------+--------------------+-------------------+-------------------+------------------+-----------+--------------+----+------------+\n",
      "only showing top 20 rows\n",
      "\n"
     ]
    }
   ],
   "source": [
    "dataset = spark.read.csv('tracks_features.csv',header= True)\n",
    "dataset.show()"
   ]
  },
  {
   "cell_type": "code",
   "execution_count": 4,
   "id": "forbidden-third",
   "metadata": {},
   "outputs": [
    {
     "name": "stdout",
     "output_type": "stream",
     "text": [
      "root\n",
      " |-- name: string (nullable = true)\n",
      " |-- album: string (nullable = true)\n",
      " |-- artists: string (nullable = true)\n",
      " |-- explicit: string (nullable = true)\n",
      " |-- energy: string (nullable = true)\n",
      " |-- valence: string (nullable = true)\n",
      " |-- tempo: string (nullable = true)\n",
      " |-- duration_ms: string (nullable = true)\n",
      " |-- time_signature: string (nullable = true)\n",
      " |-- year: string (nullable = true)\n",
      "\n"
     ]
    }
   ],
   "source": [
    "df = dataset.select('name', 'album', 'artists', 'explicit', 'energy', 'valence', 'tempo', 'duration_ms', 'time_signature', 'year')\n",
    "cols = df.columns\n",
    "df.printSchema()"
   ]
  },
  {
   "cell_type": "code",
   "execution_count": 5,
   "id": "covered-feature",
   "metadata": {},
   "outputs": [
    {
     "name": "stdout",
     "output_type": "stream",
     "text": [
      "root\n",
      " |-- name: string (nullable = true)\n",
      " |-- album: string (nullable = true)\n",
      " |-- artists: string (nullable = true)\n",
      " |-- explicit: boolean (nullable = true)\n",
      " |-- energy: float (nullable = true)\n",
      " |-- valence: float (nullable = true)\n",
      " |-- tempo: integer (nullable = true)\n",
      " |-- duration_ms: float (nullable = true)\n",
      " |-- time_signature: integer (nullable = true)\n",
      " |-- year: integer (nullable = true)\n",
      "\n",
      "+--------------------+--------------------+--------------------+--------+------+-------+-----+-----------+--------------+----+\n",
      "|                name|               album|             artists|explicit|energy|valence|tempo|duration_ms|time_signature|year|\n",
      "+--------------------+--------------------+--------------------+--------+------+-------+-----+-----------+--------------+----+\n",
      "|             Testify|The Battle Of Los...|['Rage Against Th...|   false| 0.978|  0.503|  117|   210133.0|             4|1999|\n",
      "|     Guerrilla Radio|The Battle Of Los...|['Rage Against Th...|    true| 0.957|  0.489|  103|   206200.0|             4|1999|\n",
      "|    Calm Like a Bomb|The Battle Of Los...|['Rage Against Th...|   false|  0.97|   0.37|  149|   298893.0|             4|1999|\n",
      "|           Mic Check|The Battle Of Los...|['Rage Against Th...|    true| 0.967|  0.574|   96|   213640.0|             4|1999|\n",
      "|Sleep Now In the ...|The Battle Of Los...|['Rage Against Th...|   false| 0.929|  0.539|  127|   205600.0|             4|1999|\n",
      "|Born of a Broken Man|The Battle Of Los...|['Rage Against Th...|   false| 0.848|  0.194|  148|   280960.0|             4|1999|\n",
      "|      Born As Ghosts|The Battle Of Los...|['Rage Against Th...|   false| 0.976|  0.483|   90|   202040.0|             4|1999|\n",
      "|               Maria|The Battle Of Los...|['Rage Against Th...|   false| 0.873|  0.618|  172|   228093.0|             4|1999|\n",
      "|Voice of the Voic...|The Battle Of Los...|['Rage Against Th...|   false| 0.882|  0.418|   83|   151573.0|             4|1999|\n",
      "|New Millennium Homes|The Battle Of Los...|['Rage Against Th...|   false| 0.861|  0.761|   92|   224933.0|             4|1999|\n",
      "|   Ashes In the Fall|The Battle Of Los...|['Rage Against Th...|    true| 0.704|  0.656|  140|   277267.0|             4|1999|\n",
      "| War Within a Breath|The Battle Of Los...|['Rage Against Th...|   false| 0.965|  0.174|   98|   216427.0|             4|1999|\n",
      "|           Bombtrack|Rage Against The ...|['Rage Against Th...|    true| 0.855|  0.668|  151|   243760.0|             4|1992|\n",
      "| Killing In the Name|Rage Against The ...|['Rage Against Th...|    true| 0.779|  0.734|   86|   313667.0|             4|1992|\n",
      "| Take the Power Back|Rage Against The ...|['Rage Against Th...|    true| 0.842|  0.301|  104|   335840.0|             4|1992|\n",
      "|  Settle for Nothing|Rage Against The ...|['Rage Against Th...|   false| 0.533|   0.29|   97|   287333.0|             4|1992|\n",
      "|  Bullet In the Head|Rage Against The ...|['Rage Against Th...|    true| 0.806|  0.447|  164|   307067.0|             4|1992|\n",
      "|     Know Your Enemy|Rage Against The ...|['Rage Against Th...|    true| 0.765|  0.613|  117|   294693.0|             4|1992|\n",
      "|             Wake Up|Rage Against The ...|['Rage Against Th...|   false| 0.823|  0.573|  170|   364133.0|             4|1992|\n",
      "|    Fistful of Steel|Rage Against The ...|['Rage Against Th...|   false| 0.755|  0.608|  155|   331107.0|             4|1992|\n",
      "+--------------------+--------------------+--------------------+--------+------+-------+-----+-----------+--------------+----+\n",
      "only showing top 20 rows\n",
      "\n"
     ]
    }
   ],
   "source": [
    "from pyspark.sql.types import StringType, FloatType, IntegerType, BooleanType\n",
    "\n",
    "df = df.select(\n",
    "    df.name.cast(StringType()),\n",
    "    df.album.cast(StringType()),\n",
    "    df.artists.cast(StringType()),\n",
    "    df.explicit.cast(BooleanType()),\n",
    "    df.energy.cast(FloatType()),\n",
    "    df.valence.cast(FloatType()),\n",
    "    df.tempo.cast(IntegerType()),\n",
    "    df.duration_ms.cast(FloatType()),\n",
    "    df.time_signature.cast(IntegerType()),\n",
    "    df.year.cast(IntegerType()),\n",
    ")\n",
    "\n",
    "df.printSchema()\n",
    "df.show()"
   ]
  },
  {
   "cell_type": "code",
   "execution_count": 6,
   "id": "dimensional-machine",
   "metadata": {},
   "outputs": [],
   "source": [
    "import pyspark.sql.functions as F\n",
    "df = df.withColumn('explicit', F.when(df.explicit == 'false', 0).otherwise(1))"
   ]
  },
  {
   "cell_type": "code",
   "execution_count": 7,
   "id": "herbal-camel",
   "metadata": {},
   "outputs": [
    {
     "name": "stdout",
     "output_type": "stream",
     "text": [
      "+--------------------+--------------------+--------------------+--------+------+-------+-----+-----------+--------------+----+\n",
      "|                name|               album|             artists|explicit|energy|valence|tempo|duration_ms|time_signature|year|\n",
      "+--------------------+--------------------+--------------------+--------+------+-------+-----+-----------+--------------+----+\n",
      "|             Testify|The Battle Of Los...|['Rage Against Th...|       0| 0.978|  0.503|  117|   210133.0|             4|1999|\n",
      "|     Guerrilla Radio|The Battle Of Los...|['Rage Against Th...|       1| 0.957|  0.489|  103|   206200.0|             4|1999|\n",
      "|    Calm Like a Bomb|The Battle Of Los...|['Rage Against Th...|       0|  0.97|   0.37|  149|   298893.0|             4|1999|\n",
      "|           Mic Check|The Battle Of Los...|['Rage Against Th...|       1| 0.967|  0.574|   96|   213640.0|             4|1999|\n",
      "|Sleep Now In the ...|The Battle Of Los...|['Rage Against Th...|       0| 0.929|  0.539|  127|   205600.0|             4|1999|\n",
      "|Born of a Broken Man|The Battle Of Los...|['Rage Against Th...|       0| 0.848|  0.194|  148|   280960.0|             4|1999|\n",
      "|      Born As Ghosts|The Battle Of Los...|['Rage Against Th...|       0| 0.976|  0.483|   90|   202040.0|             4|1999|\n",
      "|               Maria|The Battle Of Los...|['Rage Against Th...|       0| 0.873|  0.618|  172|   228093.0|             4|1999|\n",
      "|Voice of the Voic...|The Battle Of Los...|['Rage Against Th...|       0| 0.882|  0.418|   83|   151573.0|             4|1999|\n",
      "|New Millennium Homes|The Battle Of Los...|['Rage Against Th...|       0| 0.861|  0.761|   92|   224933.0|             4|1999|\n",
      "|   Ashes In the Fall|The Battle Of Los...|['Rage Against Th...|       1| 0.704|  0.656|  140|   277267.0|             4|1999|\n",
      "| War Within a Breath|The Battle Of Los...|['Rage Against Th...|       0| 0.965|  0.174|   98|   216427.0|             4|1999|\n",
      "|           Bombtrack|Rage Against The ...|['Rage Against Th...|       1| 0.855|  0.668|  151|   243760.0|             4|1992|\n",
      "| Killing In the Name|Rage Against The ...|['Rage Against Th...|       1| 0.779|  0.734|   86|   313667.0|             4|1992|\n",
      "| Take the Power Back|Rage Against The ...|['Rage Against Th...|       1| 0.842|  0.301|  104|   335840.0|             4|1992|\n",
      "|  Settle for Nothing|Rage Against The ...|['Rage Against Th...|       0| 0.533|   0.29|   97|   287333.0|             4|1992|\n",
      "|  Bullet In the Head|Rage Against The ...|['Rage Against Th...|       1| 0.806|  0.447|  164|   307067.0|             4|1992|\n",
      "|     Know Your Enemy|Rage Against The ...|['Rage Against Th...|       1| 0.765|  0.613|  117|   294693.0|             4|1992|\n",
      "|             Wake Up|Rage Against The ...|['Rage Against Th...|       0| 0.823|  0.573|  170|   364133.0|             4|1992|\n",
      "|    Fistful of Steel|Rage Against The ...|['Rage Against Th...|       0| 0.755|  0.608|  155|   331107.0|             4|1992|\n",
      "+--------------------+--------------------+--------------------+--------+------+-------+-----+-----------+--------------+----+\n",
      "only showing top 20 rows\n",
      "\n"
     ]
    }
   ],
   "source": [
    "df.show()"
   ]
  },
  {
   "cell_type": "code",
   "execution_count": 8,
   "id": "democratic-force",
   "metadata": {},
   "outputs": [
    {
     "name": "stdout",
     "output_type": "stream",
     "text": [
      "+--------------------+--------------------+--------------------+--------+------+-------+-----+-----------+--------------+----+\n",
      "|                name|               album|             artists|explicit|energy|valence|tempo|duration_ms|time_signature|year|\n",
      "+--------------------+--------------------+--------------------+--------+------+-------+-----+-----------+--------------+----+\n",
      "|Aida: Act I: Alta...|         Verdi: Aida|\"['Giuseppe Verdi...|       1|  null|   null| null|       null|          null|null|\n",
      "|Aida: Act I: Or d...|         Verdi: Aida|\"['Giuseppe Verdi...|       1|  null|   null| null|       null|          null|null|\n",
      "|Aida: Act I: Qual...|         Verdi: Aida|\"['Giuseppe Verdi...|       1|  null|   null| null|       null|          null|null|\n",
      "|Aida: Act I: Rito...|         Verdi: Aida|\"['Giuseppe Verdi...|       1|  null|   null| null|       null|          null|null|\n",
      "|      Aida: Preludio|         Verdi: Aida|\"['Giuseppe Verdi...|       1|  null|   null| null|       null|          null|null|\n",
      "|       Come Together|       Come Together|\"['Rodney \"\"Darkc...|       1|  null|   null| null|        1.0|             1|null|\n",
      "|Aida: Act I: Si: ...|         Verdi: Aida|\"['Giuseppe Verdi...|       1|  null|   null| null|       null|          null|null|\n",
      "|Rolling 50 Deep (...|              Homage|\"['DJ Kay Slay', ...|       1|  null|   null| null|       null|          null|null|\n",
      "|        I Was a Fool|Williams, Joe: Jo...|\"['Joe Williams',...|       1|  null|-18.873|    0|     0.0478|             0|null|\n",
      "|Very Warm for May...|Williams, Joe: Jo...|\"['Joe Williams',...|       1|  null|-22.763|    0|      0.108|             0|null|\n",
      "+--------------------+--------------------+--------------------+--------+------+-------+-----+-----------+--------------+----+\n",
      "only showing top 10 rows\n",
      "\n"
     ]
    }
   ],
   "source": [
    "df.orderBy(\"year\", ascending=True).show(10)"
   ]
  },
  {
   "cell_type": "code",
   "execution_count": 9,
   "id": "exact-albania",
   "metadata": {},
   "outputs": [],
   "source": [
    "#df.dropna(subset=['name'])\n",
    "categoricalColumns = ['name','album','artists']\n",
    "stages = []\n",
    "for categoricalCol in categoricalColumns:\n",
    "    stringIndexer = StringIndexer(inputCol = categoricalCol, outputCol = categoricalCol + 'Index', handleInvalid = 'skip')\n",
    "    encoder = OneHotEncoder(inputCols=[stringIndexer.getOutputCol()], outputCols=[categoricalCol + \"classVec\"])\n",
    "    stages += [stringIndexer, encoder]\n",
    "label_stringIdx = StringIndexer(inputCol = 'explicit', outputCol = 'label', handleInvalid = 'skip')\n",
    "stages += [label_stringIdx]\n",
    "numericCols = ['energy', 'valence', 'tempo', 'duration_ms','time_signature','year']\n",
    "assemblerInputs = [c + \"classVec\" for c in categoricalColumns] + numericCols\n",
    "assembler = VectorAssembler(inputCols=assemblerInputs, outputCol=\"vectorized_features\", handleInvalid = 'skip')\n",
    "stages += [assembler]\n",
    "scaler = StandardScaler(inputCol=\"vectorized_features\", outputCol=\"features\")\n",
    "stages += [scaler]"
   ]
  },
  {
   "cell_type": "code",
   "execution_count": 10,
   "id": "offensive-restoration",
   "metadata": {},
   "outputs": [
    {
     "data": {
      "text/plain": [
       "['name',\n",
       " 'album',\n",
       " 'artists',\n",
       " 'explicit',\n",
       " 'energy',\n",
       " 'valence',\n",
       " 'tempo',\n",
       " 'duration_ms',\n",
       " 'time_signature',\n",
       " 'year']"
      ]
     },
     "execution_count": 10,
     "metadata": {},
     "output_type": "execute_result"
    }
   ],
   "source": [
    "cols = df.columns\n",
    "cols"
   ]
  },
  {
   "cell_type": "code",
   "execution_count": 11,
   "id": "blank-ethiopia",
   "metadata": {},
   "outputs": [
    {
     "name": "stdout",
     "output_type": "stream",
     "text": [
      "root\n",
      " |-- label: double (nullable = false)\n",
      " |-- features: vector (nullable = true)\n",
      " |-- name: string (nullable = true)\n",
      " |-- album: string (nullable = true)\n",
      " |-- artists: string (nullable = true)\n",
      " |-- explicit: integer (nullable = false)\n",
      " |-- energy: float (nullable = true)\n",
      " |-- valence: float (nullable = true)\n",
      " |-- tempo: integer (nullable = true)\n",
      " |-- duration_ms: float (nullable = true)\n",
      " |-- time_signature: integer (nullable = true)\n",
      " |-- year: integer (nullable = true)\n",
      "\n"
     ]
    }
   ],
   "source": [
    "pipeline = Pipeline(stages = stages)\n",
    "pipelineModel = pipeline.fit(df)\n",
    "df = pipelineModel.transform(df)\n",
    "selectedCols = ['label', 'features'] + cols\n",
    "df = df.select(selectedCols)\n",
    "df.printSchema()"
   ]
  },
  {
   "cell_type": "code",
   "execution_count": 12,
   "id": "reported-presence",
   "metadata": {},
   "outputs": [
    {
     "name": "stdout",
     "output_type": "stream",
     "text": [
      "Training Dataset Count: 960369\n",
      "Test Dataset Count: 240473\n"
     ]
    }
   ],
   "source": [
    "train, test = df.randomSplit([0.8, 0.2], seed = 12345)\n",
    "print(\"Training Dataset Count: \" + str(train.count()))\n",
    "print(\"Test Dataset Count: \" + str(test.count()))"
   ]
  },
  {
   "cell_type": "code",
   "execution_count": 13,
   "id": "educated-render",
   "metadata": {},
   "outputs": [],
   "source": [
    "train2, test2 = df.randomSplit([0.75, 0.25], seed = 12345)\n",
    "train3, test3 = df.randomSplit([0.7, 0.3], seed = 12345)"
   ]
  },
  {
   "cell_type": "code",
   "execution_count": 14,
   "id": "suburban-compensation",
   "metadata": {},
   "outputs": [],
   "source": [
    "from pyspark.ml.classification import LogisticRegression\n",
    "lr = LogisticRegression(featuresCol = 'features', labelCol = 'label', maxIter=3)\n",
    "lrModel = lr.fit(train)\n",
    "pred = lrModel.transform(test)"
   ]
  },
  {
   "cell_type": "code",
   "execution_count": 15,
   "id": "sealed-shape",
   "metadata": {},
   "outputs": [],
   "source": [
    "class_names=[1.0,0.0]\n",
    "import itertools\n",
    "def plot_confusion_matrix(cm, classes,\n",
    "                          normalize=False,\n",
    "                          title='Confusion matrix',\n",
    "                          cmap=plt.cm.Blues):\n",
    "    if normalize:\n",
    "        cm = cm.astype('float') / cm.sum(axis=1)[:, np.newaxis]\n",
    "        print(\"Normalized confusion matrix\")\n",
    "    else:\n",
    "        print('Confusion matrix, without normalization')\n",
    "\n",
    "    print(cm)\n",
    "\n",
    "    plt.imshow(cm, interpolation='nearest', cmap=cmap)\n",
    "    plt.title(title)\n",
    "    plt.colorbar()\n",
    "    tick_marks = np.arange(len(classes))\n",
    "    plt.xticks(tick_marks, classes, rotation=45)\n",
    "    plt.yticks(tick_marks, classes)\n",
    "\n",
    "    fmt = '.2f' if normalize else 'd'\n",
    "    thresh = cm.max() / 2.\n",
    "    for i, j in itertools.product(range(cm.shape[0]), range(cm.shape[1])):\n",
    "        plt.text(j, i, format(cm[i, j], fmt),\n",
    "                 horizontalalignment=\"center\",\n",
    "                 color=\"white\" if cm[i, j] > thresh else \"black\")\n",
    "\n",
    "    plt.tight_layout()\n",
    "    plt.ylabel('True label')\n",
    "    plt.xlabel('Predicted label')"
   ]
  },
  {
   "cell_type": "code",
   "execution_count": 16,
   "id": "derived-center",
   "metadata": {},
   "outputs": [
    {
     "name": "stdout",
     "output_type": "stream",
     "text": [
      "Confusion matrix, without normalization\n",
      "[[ 10651   7071]\n",
      " [   702 222049]]\n"
     ]
    },
    {
     "data": {
      "image/png": "[encoded data removed]",
      "text/plain": [
       "<Figure size 432x288 with 2 Axes>"
      ]
     },
     "metadata": {
      "needs_background": "light"
     },
     "output_type": "display_data"
    }
   ],
   "source": [
    "y_true = pred.select(\"label\")\n",
    "y_true = y_true.toPandas()\n",
    "\n",
    "y_pred = pred.select(\"prediction\")\n",
    "y_pred = y_pred.toPandas()\n",
    "\n",
    "cnf_matrix = confusion_matrix(y_true, y_pred,labels=class_names)\n",
    "\n",
    "plt.figure()\n",
    "plot_confusion_matrix(cnf_matrix, classes=class_names,\n",
    "                      title='Confusion matrix')\n",
    "plt.show()"
   ]
  },
  {
   "cell_type": "code",
   "execution_count": 17,
   "id": "enhanced-permit",
   "metadata": {},
   "outputs": [
    {
     "name": "stdout",
     "output_type": "stream",
     "text": [
      "Accuracy :  0.9676762048130143\n"
     ]
    }
   ],
   "source": [
    "accuracy = pred.filter(pred.label == pred.prediction).count() / float(pred.count())\n",
    "print(\"Accuracy : \",accuracy)"
   ]
  },
  {
   "cell_type": "code",
   "execution_count": 18,
   "id": "numerous-tennessee",
   "metadata": {},
   "outputs": [
    {
     "data": {
      "image/png": "[encoded data removed]",
      "text/plain": [
       "<Figure size 432x288 with 1 Axes>"
      ]
     },
     "metadata": {
      "needs_background": "light"
     },
     "output_type": "display_data"
    },
    {
     "name": "stdout",
     "output_type": "stream",
     "text": [
      "Training Area Under ROC: 0.9992725484327043\n"
     ]
    }
   ],
   "source": [
    "trainingSummary = lrModel.summary\n",
    "roc = trainingSummary.roc.toPandas()\n",
    "plt.plot(roc['FPR'],roc['TPR'])\n",
    "plt.ylabel('False Positive Rate')\n",
    "plt.xlabel('True Positive Rate')\n",
    "plt.title('ROC Curve')\n",
    "plt.show()\n",
    "print('Training Area Under ROC: ' + str(trainingSummary.areaUnderROC))"
   ]
  },
  {
   "cell_type": "code",
   "execution_count": 19,
   "id": "extraordinary-martin",
   "metadata": {},
   "outputs": [
    {
     "name": "stdout",
     "output_type": "stream",
     "text": [
      "Test Area Under ROC 0.9831225632294898\n"
     ]
    }
   ],
   "source": [
    "from pyspark.ml.evaluation import BinaryClassificationEvaluator\n",
    "evaluator = BinaryClassificationEvaluator()\n",
    "print('Test Area Under ROC', evaluator.evaluate(pred))"
   ]
  },
  {
   "cell_type": "code",
   "execution_count": 20,
   "id": "seasonal-sixth",
   "metadata": {},
   "outputs": [],
   "source": [
    "#Model 1 80-20 split\n",
    "#Accuracy :  0.9676762048130143\n",
    "#Training Area Under ROC: 0.9992808974017898   \n",
    "#Test Area Under ROC 0.9831225938810771"
   ]
  },
  {
   "cell_type": "code",
   "execution_count": 21,
   "id": "spare-recipe",
   "metadata": {},
   "outputs": [],
   "source": [
    "lr2 = LogisticRegression(featuresCol = 'features', labelCol = 'label', maxIter=3)\n",
    "lrModel2 = lr2.fit(train2)\n",
    "pred2 = lrModel2.transform(test2)"
   ]
  },
  {
   "cell_type": "code",
   "execution_count": 22,
   "id": "derived-integer",
   "metadata": {},
   "outputs": [
    {
     "name": "stdout",
     "output_type": "stream",
     "text": [
      "Confusion matrix, without normalization\n",
      "[[ 13317   8905]\n",
      " [   886 277799]]\n"
     ]
    },
    {
     "data": {
      "image/png": "[encoded data removed]",
      "text/plain": [
       "<Figure size 432x288 with 2 Axes>"
      ]
     },
     "metadata": {
      "needs_background": "light"
     },
     "output_type": "display_data"
    }
   ],
   "source": [
    "y_true2 = pred2.select(\"label\")\n",
    "y_true2 = y_true2.toPandas()\n",
    "\n",
    "y_pred2 = pred2.select(\"prediction\")\n",
    "y_pred2 = y_pred2.toPandas()\n",
    "\n",
    "cnf_matrix2 = confusion_matrix(y_true2, y_pred2,labels=class_names)\n",
    "\n",
    "plt.figure()\n",
    "plot_confusion_matrix(cnf_matrix2, classes=class_names,\n",
    "                      title='Confusion matrix')\n",
    "plt.show()"
   ]
  },
  {
   "cell_type": "code",
   "execution_count": 23,
   "id": "involved-death",
   "metadata": {},
   "outputs": [
    {
     "name": "stdout",
     "output_type": "stream",
     "text": [
      "Accuracy :  0.9674617074378462\n"
     ]
    }
   ],
   "source": [
    "accuracy2 = pred2.filter(pred2.label == pred2.prediction).count() / float(pred2.count())\n",
    "print(\"Accuracy : \",accuracy2)"
   ]
  },
  {
   "cell_type": "code",
   "execution_count": 24,
   "id": "fleet-rider",
   "metadata": {},
   "outputs": [
    {
     "data": {
      "image/png": "[encoded data removed]",
      "text/plain": [
       "<Figure size 432x288 with 1 Axes>"
      ]
     },
     "metadata": {
      "needs_background": "light"
     },
     "output_type": "display_data"
    },
    {
     "name": "stdout",
     "output_type": "stream",
     "text": [
      "Training Area Under ROC: 0.9993034217833708\n"
     ]
    }
   ],
   "source": [
    "trainingSummary2 = lrModel2.summary\n",
    "roc2 = trainingSummary2.roc.toPandas()\n",
    "plt.plot(roc2['FPR'],roc2['TPR'])\n",
    "plt.ylabel('False Positive Rate')\n",
    "plt.xlabel('True Positive Rate')\n",
    "plt.title('ROC Curve')\n",
    "plt.show()\n",
    "print('Training Area Under ROC: ' + str(trainingSummary2.areaUnderROC))"
   ]
  },
  {
   "cell_type": "code",
   "execution_count": 25,
   "id": "honest-maria",
   "metadata": {},
   "outputs": [
    {
     "name": "stdout",
     "output_type": "stream",
     "text": [
      "Test Area Under ROC 0.9828220494379982\n"
     ]
    }
   ],
   "source": [
    "print('Test Area Under ROC', evaluator.evaluate(pred2))"
   ]
  },
  {
   "cell_type": "code",
   "execution_count": 26,
   "id": "saving-terror",
   "metadata": {},
   "outputs": [],
   "source": [
    "#Model 2 75-25 split\n",
    "#Accuracy :  0.9674617074378462\n",
    "#Training Area Under ROC: 0.9993084178588645\n",
    "#Test Area Under ROC 0.982823692357705"
   ]
  },
  {
   "cell_type": "code",
   "execution_count": 27,
   "id": "democratic-tokyo",
   "metadata": {},
   "outputs": [],
   "source": [
    "lr3 = LogisticRegression(featuresCol = 'features', labelCol = 'label', maxIter=3)\n",
    "lrModel3 = lr3.fit(train3)\n",
    "pred3 = lrModel3.transform(test3)"
   ]
  },
  {
   "cell_type": "code",
   "execution_count": 28,
   "id": "green-stopping",
   "metadata": {},
   "outputs": [
    {
     "name": "stdout",
     "output_type": "stream",
     "text": [
      "Confusion matrix, without normalization\n",
      "[[ 15835  10725]\n",
      " [  1060 333843]]\n"
     ]
    },
    {
     "data": {
      "image/png": "[encoded data removed]",
      "text/plain": [
       "<Figure size 432x288 with 2 Axes>"
      ]
     },
     "metadata": {
      "needs_background": "light"
     },
     "output_type": "display_data"
    }
   ],
   "source": [
    "y_true3 = pred3.select(\"label\")\n",
    "y_true3 = y_true3.toPandas()\n",
    "\n",
    "y_pred3 = pred3.select(\"prediction\")\n",
    "y_pred3 = y_pred3.toPandas()\n",
    "\n",
    "cnf_matrix3 = confusion_matrix(y_true3, y_pred3,labels=class_names)\n",
    "\n",
    "plt.figure()\n",
    "plot_confusion_matrix(cnf_matrix3, classes=class_names,\n",
    "                      title='Confusion matrix')\n",
    "plt.show()"
   ]
  },
  {
   "cell_type": "code",
   "execution_count": 29,
   "id": "pointed-washer",
   "metadata": {},
   "outputs": [
    {
     "name": "stdout",
     "output_type": "stream",
     "text": [
      "Accuracy :  0.9673963863521301\n"
     ]
    }
   ],
   "source": [
    "accuracy3 = pred3.filter(pred3.label == pred3.prediction).count() / float(pred3.count())\n",
    "print(\"Accuracy : \",accuracy3)"
   ]
  },
  {
   "cell_type": "code",
   "execution_count": 30,
   "id": "toxic-greensboro",
   "metadata": {},
   "outputs": [
    {
     "data": {
      "image/png": "[encoded data removed]",
      "text/plain": [
       "<Figure size 432x288 with 1 Axes>"
      ]
     },
     "metadata": {
      "needs_background": "light"
     },
     "output_type": "display_data"
    },
    {
     "name": "stdout",
     "output_type": "stream",
     "text": [
      "Training Area Under ROC: 0.9993393714158192\n"
     ]
    }
   ],
   "source": [
    "trainingSummary3 = lrModel3.summary\n",
    "roc3 = trainingSummary3.roc.toPandas()\n",
    "plt.plot(roc3['FPR'],roc3['TPR'])\n",
    "plt.ylabel('False Positive Rate')\n",
    "plt.xlabel('True Positive Rate')\n",
    "plt.title('ROC Curve')\n",
    "plt.show()\n",
    "print('Training Area Under ROC: ' + str(trainingSummary3.areaUnderROC))"
   ]
  },
  {
   "cell_type": "code",
   "execution_count": 31,
   "id": "suitable-complex",
   "metadata": {},
   "outputs": [
    {
     "name": "stdout",
     "output_type": "stream",
     "text": [
      "Test Area Under ROC 0.982175510914435\n"
     ]
    }
   ],
   "source": [
    "print('Test Area Under ROC', evaluator.evaluate(pred3))"
   ]
  },
  {
   "cell_type": "code",
   "execution_count": 32,
   "id": "recovered-blond",
   "metadata": {},
   "outputs": [],
   "source": [
    "#Model 3 70-30 split\n",
    "#Accuracy :  0.9673963863521301\n",
    "#Training Area Under ROC: 0.9993391035377046\n",
    "#Test Area Under ROC 0.9821757322179495"
   ]
  },
  {
   "cell_type": "code",
   "execution_count": 33,
   "id": "lesbian-semester",
   "metadata": {},
   "outputs": [
    {
     "data": {
      "image/png": "[encoded data removed]",
      "text/plain": [
       "<Figure size 432x288 with 1 Axes>"
      ]
     },
     "metadata": {
      "needs_background": "light"
     },
     "output_type": "display_data"
    }
   ],
   "source": [
    "pr3 = trainingSummary3.pr.toPandas()\n",
    "plt.plot(pr3['recall'],pr3['precision'])\n",
    "plt.ylabel('Precision')\n",
    "plt.xlabel('Recall')\n",
    "plt.show()"
   ]
  }
 ],
 "metadata": {
  "kernelspec": {
   "display_name": "Python 3",
   "language": "python",
   "name": "python3"
  },
  "language_info": {
   "codemirror_mode": {
    "name": "ipython",
    "version": 3
   },
   "file_extension": ".py",
   "mimetype": "text/x-python",
   "name": "python",
   "nbconvert_exporter": "python",
   "pygments_lexer": "ipython3",
   "version": "3.9.2"
  }
 },
 "nbformat": 4,
 "nbformat_minor": 5
}
