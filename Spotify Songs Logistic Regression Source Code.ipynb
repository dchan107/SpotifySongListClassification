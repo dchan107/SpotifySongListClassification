{
 "cells": [
  {
   "cell_type": "code",
   "execution_count": 1,
   "id": "crude-samuel",
   "metadata": {},
   "outputs": [],
   "source": [
    "import findspark\n",
    "findspark.init()"
   ]
  },
  {
   "cell_type": "code",
   "execution_count": 2,
   "id": "circular-ribbon",
   "metadata": {},
   "outputs": [],
   "source": [
    "from pyspark.sql import SparkSession\n",
    "from pyspark.ml.classification import LogisticRegression\n",
    "spark = SparkSession.builder.config(\"spark.driver.memory\",\"20g\").getOrCreate()\n",
    "from pyspark.conf import SparkConf\n",
    "from pyspark.sql.types import * \n",
    "import pyspark.sql.functions as F\n",
    "import matplotlib.pyplot as plt\n",
    "import numpy as np\n",
    "import pandas as pd\n",
    "from pyspark.ml.feature import OneHotEncoder, StringIndexer, VectorAssembler,StandardScaler\n",
    "from pyspark.ml import Pipeline\n",
    "from sklearn.metrics import confusion_matrix"
   ]
  },
  {
   "cell_type": "code",
   "execution_count": null,
   "id": "major-rapid",
   "metadata": {},
   "outputs": [],
   "source": [
    "dataset = spark.read.csv('spotify song list.csv',header= True)\n",
    "dataset.show()"
   ]
  },
  {
   "cell_type": "code",
   "execution_count": null,
   "id": "lasting-ireland",
   "metadata": {},
   "outputs": [],
   "source": [
    "df = dataset.select('name', 'album', 'artists', 'explicit', 'energy', 'valence', 'tempo', 'duration_ms', 'time_signature', 'year')\n",
    "cols = df.columns\n",
    "df.printSchema()"
   ]
  },
  {
   "cell_type": "code",
   "execution_count": null,
   "id": "received-saint",
   "metadata": {},
   "outputs": [],
   "source": [
    "from pyspark.sql.types import StringType, FloatType, IntegerType, BooleanType\n",
    "\n",
    "df = df.select(\n",
    "    df.name.cast(StringType()),\n",
    "    df.album.cast(StringType()),\n",
    "    df.artists.cast(StringType()),\n",
    "    df.explicit.cast(BooleanType()),\n",
    "    df.energy.cast(FloatType()),\n",
    "    df.valence.cast(FloatType()),\n",
    "    df.tempo.cast(IntegerType()),\n",
    "    df.duration_ms.cast(FloatType()),\n",
    "    df.time_signature.cast(IntegerType()),\n",
    "    df.year.cast(IntegerType()),\n",
    ")\n",
    "\n",
    "df.printSchema()\n",
    "df.show()"
   ]
  },
  {
   "cell_type": "code",
   "execution_count": 6,
   "id": "altered-castle",
   "metadata": {},
   "outputs": [],
   "source": [
    "import pyspark.sql.functions as F\n",
    "df = df.withColumn('explicit', F.when(df.explicit == 'false', 0).otherwise(1))"
   ]
  },
  {
   "cell_type": "code",
   "execution_count": null,
   "id": "dimensional-genesis",
   "metadata": {},
   "outputs": [],
   "source": [
    "df.show()"
   ]
  },
  {
   "cell_type": "code",
   "execution_count": null,
   "id": "russian-holly",
   "metadata": {},
   "outputs": [],
   "source": [
    "df.orderBy(\"year\", ascending=True).show(10)"
   ]
  },
  {
   "cell_type": "code",
   "execution_count": 10,
   "id": "antique-daisy",
   "metadata": {},
   "outputs": [],
   "source": [
    "#df.dropna(subset=['name'])\n",
    "categoricalColumns = ['name','album','artists']\n",
    "stages = []\n",
    "for categoricalCol in categoricalColumns:\n",
    "    stringIndexer = StringIndexer(inputCol = categoricalCol, outputCol = categoricalCol + 'Index', handleInvalid = 'skip')\n",
    "    encoder = OneHotEncoder(inputCols=[stringIndexer.getOutputCol()], outputCols=[categoricalCol + \"classVec\"])\n",
    "    stages += [stringIndexer, encoder]\n",
    "label_stringIdx = StringIndexer(inputCol = 'explicit', outputCol = 'label', handleInvalid = 'skip')\n",
    "stages += [label_stringIdx]\n",
    "numericCols = ['energy', 'valence', 'tempo', 'duration_ms','time_signature','year']\n",
    "assemblerInputs = [c + \"classVec\" for c in categoricalColumns] + numericCols\n",
    "assembler = VectorAssembler(inputCols=assemblerInputs, outputCol=\"vectorized_features\", handleInvalid = 'skip')\n",
    "stages += [assembler]\n",
    "scaler = StandardScaler(inputCol=\"vectorized_features\", outputCol=\"features\")\n",
    "stages += [scaler]"
   ]
  },
  {
   "cell_type": "code",
   "execution_count": null,
   "id": "mathematical-quest",
   "metadata": {},
   "outputs": [],
   "source": [
    "cols = df.columns\n",
    "cols"
   ]
  },
  {
   "cell_type": "code",
   "execution_count": null,
   "id": "central-category",
   "metadata": {},
   "outputs": [],
   "source": [
    "pipeline = Pipeline(stages = stages)\n",
    "pipelineModel = pipeline.fit(df)\n",
    "df = pipelineModel.transform(df)\n",
    "selectedCols = ['label', 'features'] + cols\n",
    "df = df.select(selectedCols)\n",
    "df.printSchema()"
   ]
  },
  {
   "cell_type": "code",
   "execution_count": null,
   "id": "criminal-arctic",
   "metadata": {},
   "outputs": [],
   "source": [
    "train, test = df.randomSplit([0.8, 0.2], seed = 12345)\n",
    "print(\"Training Dataset Count: \" + str(train.count()))\n",
    "print(\"Test Dataset Count: \" + str(test.count()))"
   ]
  },
  {
   "cell_type": "code",
   "execution_count": null,
   "id": "serious-translator",
   "metadata": {},
   "outputs": [],
   "source": [
    "train2, test2 = df.randomSplit([0.75, 0.25], seed = 12345)\n",
    "train3, test3 = df.randomSplit([0.7, 0.3], seed = 12345)"
   ]
  },
  {
   "cell_type": "code",
   "execution_count": null,
   "id": "accurate-consultancy",
   "metadata": {},
   "outputs": [],
   "source": [
    "from pyspark.ml.classification import LogisticRegression\n",
    "lr = LogisticRegression(featuresCol = 'features', labelCol = 'label', maxIter=3)\n",
    "lrModel = lr.fit(train)\n",
    "pred = lrModel.transform(test)"
   ]
  },
  {
   "cell_type": "code",
   "execution_count": null,
   "id": "smart-slide",
   "metadata": {},
   "outputs": [],
   "source": [
    "class_names=[1.0,0.0]\n",
    "import itertools\n",
    "def plot_confusion_matrix(cm, classes,\n",
    "                          normalize=False,\n",
    "                          title='Confusion matrix',\n",
    "                          cmap=plt.cm.Blues):\n",
    "    if normalize:\n",
    "        cm = cm.astype('float') / cm.sum(axis=1)[:, np.newaxis]\n",
    "        print(\"Normalized confusion matrix\")\n",
    "    else:\n",
    "        print('Confusion matrix, without normalization')\n",
    "\n",
    "    print(cm)\n",
    "\n",
    "    plt.imshow(cm, interpolation='nearest', cmap=cmap)\n",
    "    plt.title(title)\n",
    "    plt.colorbar()\n",
    "    tick_marks = np.arange(len(classes))\n",
    "    plt.xticks(tick_marks, classes, rotation=45)\n",
    "    plt.yticks(tick_marks, classes)\n",
    "\n",
    "    fmt = '.2f' if normalize else 'd'\n",
    "    thresh = cm.max() / 2.\n",
    "    for i, j in itertools.product(range(cm.shape[0]), range(cm.shape[1])):\n",
    "        plt.text(j, i, format(cm[i, j], fmt),\n",
    "                 horizontalalignment=\"center\",\n",
    "                 color=\"white\" if cm[i, j] > thresh else \"black\")\n",
    "\n",
    "    plt.tight_layout()\n",
    "    plt.ylabel('True label')\n",
    "    plt.xlabel('Predicted label')"
   ]
  },
  {
   "cell_type": "code",
   "execution_count": null,
   "id": "shared-ordinance",
   "metadata": {},
   "outputs": [],
   "source": [
    "y_true = pred.select(\"label\")\n",
    "y_true = y_true.toPandas()\n",
    "\n",
    "y_pred = pred.select(\"prediction\")\n",
    "y_pred = y_pred.toPandas()\n",
    "\n",
    "cnf_matrix = confusion_matrix(y_true, y_pred,labels=class_names)\n",
    "\n",
    "plt.figure()\n",
    "plot_confusion_matrix(cnf_matrix, classes=class_names,\n",
    "                      title='Confusion matrix')\n",
    "plt.show()"
   ]
  },
  {
   "cell_type": "code",
   "execution_count": null,
   "id": "floral-business",
   "metadata": {},
   "outputs": [],
   "source": [
    "accuracy = pred.filter(pred.label == pred.prediction).count() / float(pred.count())\n",
    "print(\"Accuracy : \",accuracy)"
   ]
  },
  {
   "cell_type": "code",
   "execution_count": null,
   "id": "strategic-bachelor",
   "metadata": {},
   "outputs": [],
   "source": [
    "trainingSummary = lrModel.summary\n",
    "roc = trainingSummary.roc.toPandas()\n",
    "plt.plot(roc['FPR'],roc['TPR'])\n",
    "plt.ylabel('False Positive Rate')\n",
    "plt.xlabel('True Positive Rate')\n",
    "plt.title('ROC Curve')\n",
    "plt.show()\n",
    "print('Training Area Under ROC: ' + str(trainingSummary.areaUnderROC))"
   ]
  },
  {
   "cell_type": "code",
   "execution_count": null,
   "id": "wired-photography",
   "metadata": {},
   "outputs": [],
   "source": [
    "from pyspark.ml.evaluation import BinaryClassificationEvaluator\n",
    "evaluator = BinaryClassificationEvaluator()\n",
    "print('Test Area Under ROC', evaluator.evaluate(pred))"
   ]
  },
  {
   "cell_type": "code",
   "execution_count": null,
   "id": "civil-commerce",
   "metadata": {},
   "outputs": [],
   "source": [
    "#Model 1 80-20 split\n",
    "#Accuracy :  0.9676762048130143\n",
    "#Training Area Under ROC: 0.9992808974017898   \n",
    "#Test Area Under ROC 0.9831225938810771"
   ]
  },
  {
   "cell_type": "code",
   "execution_count": null,
   "id": "arranged-negative",
   "metadata": {},
   "outputs": [],
   "source": [
    "lr2 = LogisticRegression(featuresCol = 'features', labelCol = 'label', maxIter=3)\n",
    "lrModel2 = lr2.fit(train2)\n",
    "pred2 = lrModel2.transform(test2)"
   ]
  },
  {
   "cell_type": "code",
   "execution_count": null,
   "id": "significant-washington",
   "metadata": {},
   "outputs": [],
   "source": [
    "y_true2 = pred2.select(\"label\")\n",
    "y_true2 = y_true2.toPandas()\n",
    "\n",
    "y_pred2 = pred2.select(\"prediction\")\n",
    "y_pred2 = y_pred2.toPandas()\n",
    "\n",
    "cnf_matrix2 = confusion_matrix(y_true2, y_pred2,labels=class_names)\n",
    "\n",
    "plt.figure()\n",
    "plot_confusion_matrix(cnf_matrix2, classes=class_names,\n",
    "                      title='Confusion matrix')\n",
    "plt.show()"
   ]
  },
  {
   "cell_type": "code",
   "execution_count": null,
   "id": "advance-classic",
   "metadata": {},
   "outputs": [],
   "source": [
    "accuracy2 = pred2.filter(pred2.label == pred2.prediction).count() / float(pred2.count())\n",
    "print(\"Accuracy : \",accuracy2)"
   ]
  },
  {
   "cell_type": "code",
   "execution_count": null,
   "id": "illegal-caribbean",
   "metadata": {},
   "outputs": [],
   "source": [
    "trainingSummary2 = lrModel2.summary\n",
    "roc2 = trainingSummary2.roc.toPandas()\n",
    "plt.plot(roc2['FPR'],roc2['TPR'])\n",
    "plt.ylabel('False Positive Rate')\n",
    "plt.xlabel('True Positive Rate')\n",
    "plt.title('ROC Curve')\n",
    "plt.show()\n",
    "print('Training Area Under ROC: ' + str(trainingSummary2.areaUnderROC))"
   ]
  },
  {
   "cell_type": "code",
   "execution_count": null,
   "id": "overall-armstrong",
   "metadata": {},
   "outputs": [],
   "source": [
    "print('Test Area Under ROC', evaluator.evaluate(pred2))"
   ]
  },
  {
   "cell_type": "code",
   "execution_count": null,
   "id": "identical-jacksonville",
   "metadata": {},
   "outputs": [],
   "source": [
    "#Model 2 75-25 split\n",
    "#Accuracy :  0.9674617074378462\n",
    "#Training Area Under ROC: 0.9993084178588645\n",
    "#Test Area Under ROC 0.982823692357705"
   ]
  },
  {
   "cell_type": "code",
   "execution_count": null,
   "id": "polar-hotel",
   "metadata": {},
   "outputs": [],
   "source": [
    "lr3 = LogisticRegression(featuresCol = 'features', labelCol = 'label', maxIter=3)\n",
    "lrModel3 = lr3.fit(train3)\n",
    "pred3 = lrModel3.transform(test3)"
   ]
  },
  {
   "cell_type": "code",
   "execution_count": null,
   "id": "respiratory-example",
   "metadata": {},
   "outputs": [],
   "source": [
    "y_true3 = pred3.select(\"label\")\n",
    "y_true3 = y_true3.toPandas()\n",
    "\n",
    "y_pred3 = pred3.select(\"prediction\")\n",
    "y_pred3 = y_pred3.toPandas()\n",
    "\n",
    "cnf_matrix3 = confusion_matrix(y_true3, y_pred3,labels=class_names)\n",
    "\n",
    "plt.figure()\n",
    "plot_confusion_matrix(cnf_matrix3, classes=class_names,\n",
    "                      title='Confusion matrix')\n",
    "plt.show()"
   ]
  },
  {
   "cell_type": "code",
   "execution_count": null,
   "id": "surrounded-sunday",
   "metadata": {},
   "outputs": [],
   "source": [
    "accuracy3 = pred3.filter(pred3.label == pred3.prediction).count() / float(pred3.count())\n",
    "print(\"Accuracy : \",accuracy3)"
   ]
  },
  {
   "cell_type": "code",
   "execution_count": null,
   "id": "concrete-cream",
   "metadata": {},
   "outputs": [],
   "source": [
    "trainingSummary3 = lrModel3.summary\n",
    "roc3 = trainingSummary3.roc.toPandas()\n",
    "plt.plot(roc3['FPR'],roc3['TPR'])\n",
    "plt.ylabel('False Positive Rate')\n",
    "plt.xlabel('True Positive Rate')\n",
    "plt.title('ROC Curve')\n",
    "plt.show()\n",
    "print('Training Area Under ROC: ' + str(trainingSummary3.areaUnderROC))"
   ]
  },
  {
   "cell_type": "code",
   "execution_count": null,
   "id": "civic-syria",
   "metadata": {},
   "outputs": [],
   "source": [
    "print('Test Area Under ROC', evaluator.evaluate(pred3))"
   ]
  },
  {
   "cell_type": "code",
   "execution_count": null,
   "id": "original-potato",
   "metadata": {},
   "outputs": [],
   "source": [
    "#Model 3 70-30 split\n",
    "#Accuracy :  0.9673963863521301\n",
    "#Training Area Under ROC: 0.9993391035377046\n",
    "#Test Area Under ROC 0.9821757322179495"
   ]
  },
  {
   "cell_type": "code",
   "execution_count": null,
   "id": "expanded-northeast",
   "metadata": {},
   "outputs": [],
   "source": [
    "pr3 = trainingSummary3.pr.toPandas()\n",
    "plt.plot(pr3['recall'],pr3['precision'])\n",
    "plt.ylabel('Precision')\n",
    "plt.xlabel('Recall')\n",
    "plt.show()"
   ]
  }
 ],
 "metadata": {
  "kernelspec": {
   "display_name": "Python 3",
   "language": "python",
   "name": "python3"
  },
  "language_info": {
   "codemirror_mode": {
    "name": "ipython",
    "version": 3
   },
   "file_extension": ".py",
   "mimetype": "text/x-python",
   "name": "python",
   "nbconvert_exporter": "python",
   "pygments_lexer": "ipython3",
   "version": "3.9.2"
  }
 },
 "nbformat": 4,
 "nbformat_minor": 5
}
